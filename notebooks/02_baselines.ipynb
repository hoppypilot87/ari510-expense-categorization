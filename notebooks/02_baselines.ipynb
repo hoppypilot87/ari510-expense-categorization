{
 "cells": [
  {
   "cell_type": "markdown",
   "id": "e903c028",
   "metadata": {},
   "source": [
    "<H1 align=\"center\"> Automated Expense Categorization - Notebook 02: Baseline Model Development"
   ]
  },
  {
   "cell_type": "markdown",
   "id": "90f720f2",
   "metadata": {
    "vscode": {
     "languageId": "plaintext"
    }
   },
   "source": [
    "\n",
    "\n",
    "## 1. Setup"
   ]
  },
  {
   "cell_type": "code",
   "execution_count": 94,
   "id": "915262de",
   "metadata": {},
   "outputs": [],
   "source": [
    "import pandas as pd\n",
    "from sklearn.model_selection import train_test_split\n",
    "from sklearn.preprocessing import StandardScaler"
   ]
  },
  {
   "cell_type": "markdown",
   "id": "4a12a5f2",
   "metadata": {},
   "source": [
    "## 2. Load data"
   ]
  },
  {
   "cell_type": "code",
   "execution_count": 95,
   "id": "fe25cf61",
   "metadata": {},
   "outputs": [],
   "source": [
    "df = pd.read_csv('../data/processed/transactions_long.csv')"
   ]
  },
  {
   "cell_type": "code",
   "execution_count": 96,
   "id": "965c5e82",
   "metadata": {},
   "outputs": [],
   "source": [
    "# -----------------------------------------------------------\n",
    "# Step 2.1: Label Encoding for Categories\n",
    "# -----------------------------------------------------------\n",
    "\n",
    "category_map = {\n",
    "    'Groceries': 1,\n",
    "    'Eating_Out': 2,\n",
    "    'Entertainment': 3,\n",
    "    'Transport': 4,\n",
    "    'Utilities': 5,\n",
    "    'Healthcare': 6,\n",
    "    'Education': 7,\n",
    "    'Miscellaneous': 8\n",
    "\n",
    "}\n",
    "df['category_encoded'] = df['category'].map(category_map)"
   ]
  },
  {
   "cell_type": "markdown",
   "id": "ade0a599",
   "metadata": {},
   "source": [
    "## 3. Define featues and target"
   ]
  },
  {
   "cell_type": "code",
   "execution_count": 97,
   "id": "614e007a",
   "metadata": {},
   "outputs": [
    {
     "data": {
      "text/plain": [
       "['Income',\n",
       " 'Age',\n",
       " 'Dependents',\n",
       " 'Occupation',\n",
       " 'City_Tier',\n",
       " 'Rent',\n",
       " 'Loan_Repayment',\n",
       " 'Insurance',\n",
       " 'Desired_Savings_Percentage',\n",
       " 'Desired_Savings',\n",
       " 'Disposable_Income',\n",
       " 'Potential_Savings_Groceries',\n",
       " 'Potential_Savings_Transport',\n",
       " 'Potential_Savings_Eating_Out',\n",
       " 'Potential_Savings_Entertainment',\n",
       " 'Potential_Savings_Utilities',\n",
       " 'Potential_Savings_Healthcare',\n",
       " 'Potential_Savings_Education',\n",
       " 'Potential_Savings_Miscellaneous',\n",
       " 'entity_id',\n",
       " 'category',\n",
       " 'amount',\n",
       " 'category_encoded']"
      ]
     },
     "execution_count": 97,
     "metadata": {},
     "output_type": "execute_result"
    }
   ],
   "source": [
    "df.columns.tolist()\n"
   ]
  },
  {
   "cell_type": "code",
   "execution_count": 98,
   "id": "cfb7b456",
   "metadata": {},
   "outputs": [],
   "source": [
    "# -----------------------------------------------------------\n",
    "# Step 3.1: Predict Amount for Savings\n",
    "#   Remove non-numeric columns and target variable\n",
    "# -----------------------------------------------------------\n",
    "\n",
    "x_savings = df.drop(columns=[\"Desired_Savings\", \"entity_id\", \"Occupation\", \"City_Tier\", \"category\"])\n",
    "y_savings = df[\"Desired_Savings\"]"
   ]
  },
  {
   "cell_type": "code",
   "execution_count": 99,
   "id": "0e693257",
   "metadata": {},
   "outputs": [],
   "source": [
    "# -----------------------------------------------------------\n",
    "# Step 3.2 Predict Overspending\n",
    "#   Remove non-numeric columns and target variable\n",
    "# -----------------------------------------------------------\n",
    "\n",
    "df[\"Overspend_Flag\"] = (df[\"amount\"] > df[\"Disposable_Income\"]).astype(int)\n",
    "x_spending = df.drop(columns=[\"Overspend_Flag\", \"entity_id\", \"category\", \"Occupation\", \"City_Tier\", \"category\"])\n",
    "y_spending = df[\"Overspend_Flag\"]\n"
   ]
  },
  {
   "cell_type": "code",
   "execution_count": 100,
   "id": "4b43c0d5",
   "metadata": {},
   "outputs": [],
   "source": [
    "# # -----------------------------------------------------------\n",
    "# # Step 3.3 Predict Spending Category\n",
    "# # ----------------------------------------------------------\n",
    "# future_spending = [\n",
    "    \n",
    "# ]\n",
    "# y_future_spending = df[future_spending]\n",
    "# x_future_soending = pd.get_dummies(df, columns=[\"category\"], drop_first=True)\n",
    "\n"
   ]
  },
  {
   "cell_type": "markdown",
   "id": "8a9494c2",
   "metadata": {},
   "source": [
    "# 4. Split data into train and test"
   ]
  },
  {
   "cell_type": "code",
   "execution_count": 101,
   "id": "d6d420f9",
   "metadata": {},
   "outputs": [],
   "source": [
    "# # -----------------------------------------------------------\n",
    "# # Step 4.1 Split data for savings category\n",
    "# # ----------------------------------------------------------\n",
    "# Split 80% training/ 20% testing\n",
    "\n",
    "X_savings_train, X_savings_test, y_savings_train, y_savings_test = train_test_split(\n",
    "    x_savings, \n",
    "    y_savings, \n",
    "    test_size=0.2, \n",
    "    random_state=42     \n",
    ")\n"
   ]
  },
  {
   "cell_type": "code",
   "execution_count": 102,
   "id": "3770d148",
   "metadata": {},
   "outputs": [],
   "source": [
    "# # -----------------------------------------------------------\n",
    "# # Step 4.2 Split data for overspending category \n",
    "# # ----------------------------------------------------------\n",
    "# Split 80% training/ 20% testing\n",
    "\n",
    "X_spending_train, X_spending_test, y_spending_train, y_spending_test = train_test_split(\n",
    "    x_spending, \n",
    "    y_spending, \n",
    "    test_size=0.2, \n",
    "    random_state=42     \n",
    ")"
   ]
  },
  {
   "cell_type": "markdown",
   "id": "88b8a4bc",
   "metadata": {},
   "source": [
    "# 5. Scale"
   ]
  },
  {
   "cell_type": "code",
   "execution_count": 103,
   "id": "682ae290",
   "metadata": {},
   "outputs": [],
   "source": [
    "# # -----------------------------------------------------------\n",
    "# # Step 5.1 Scale features for savings model\n",
    "# # ----------------------------------------------------------\n",
    "\n",
    "scaler_s = StandardScaler()\n",
    "scaler_s.fit(X_savings_train)\n",
    "\n",
    "X_savings_train_scaled = scaler_s.transform(X_savings_train)\n",
    "X_savings_test_scaled = scaler_s.transform(X_savings_test)"
   ]
  },
  {
   "cell_type": "code",
   "execution_count": 104,
   "id": "d790242e",
   "metadata": {},
   "outputs": [],
   "source": [
    "# # -----------------------------------------------------------\n",
    "# # Step 5.2 Scale features for overspending model\n",
    "# # ----------------------------------------------------------\n",
    "\n",
    "scaler_s = StandardScaler()\n",
    "scaler_s.fit(X_spending_train)\n",
    "\n",
    "X_spending_train_scaled = scaler_s.transform(X_spending_train)\n",
    "X_spending_test_scaled = scaler_s.transform(X_spending_test)"
   ]
  },
  {
   "cell_type": "markdown",
   "id": "8d19c0a4",
   "metadata": {},
   "source": [
    "# 6. Baseline models\n",
    " - Linear Regression\n",
    " - Linear SVM\n",
    " - Random Forest"
   ]
  },
  {
   "cell_type": "code",
   "execution_count": null,
   "id": "186ce8ed",
   "metadata": {},
   "outputs": [],
   "source": []
  },
  {
   "cell_type": "markdown",
   "id": "1e9d4b63",
   "metadata": {},
   "source": [
    "# 7. Evaluate Models"
   ]
  },
  {
   "cell_type": "code",
   "execution_count": null,
   "id": "6550fd1e",
   "metadata": {},
   "outputs": [],
   "source": []
  },
  {
   "cell_type": "markdown",
   "id": "ac2a343f",
   "metadata": {},
   "source": [
    "# 8. Results"
   ]
  },
  {
   "cell_type": "code",
   "execution_count": null,
   "id": "5880c1a8",
   "metadata": {},
   "outputs": [],
   "source": []
  }
 ],
 "metadata": {
  "kernelspec": {
   "display_name": "Python 3",
   "language": "python",
   "name": "python3"
  },
  "language_info": {
   "codemirror_mode": {
    "name": "ipython",
    "version": 3
   },
   "file_extension": ".py",
   "mimetype": "text/x-python",
   "name": "python",
   "nbconvert_exporter": "python",
   "pygments_lexer": "ipython3",
   "version": "3.11.13"
  }
 },
 "nbformat": 4,
 "nbformat_minor": 5
}
