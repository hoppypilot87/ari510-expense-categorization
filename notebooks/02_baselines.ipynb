{
 "cells": [
  {
   "cell_type": "markdown",
   "id": "e903c028",
   "metadata": {},
   "source": [
    "<H1 align=\"center\"> Automated Expense Categorization - Notebook 02: Baseline Model Development"
   ]
  },
  {
   "cell_type": "markdown",
   "id": "90f720f2",
   "metadata": {
    "vscode": {
     "languageId": "plaintext"
    }
   },
   "source": [
    "\n",
    "\n",
    "## 1. Setup"
   ]
  },
  {
   "cell_type": "code",
   "execution_count": null,
   "id": "915262de",
   "metadata": {},
   "outputs": [],
   "source": []
  },
  {
   "cell_type": "markdown",
   "id": "4a12a5f2",
   "metadata": {},
   "source": [
    "## 2. Load data"
   ]
  },
  {
   "cell_type": "code",
   "execution_count": null,
   "id": "fe25cf61",
   "metadata": {},
   "outputs": [],
   "source": []
  },
  {
   "cell_type": "markdown",
   "id": "ade0a599",
   "metadata": {},
   "source": [
    "## 3. Define featues and target"
   ]
  },
  {
   "cell_type": "code",
   "execution_count": null,
   "id": "cfb7b456",
   "metadata": {},
   "outputs": [],
   "source": []
  },
  {
   "cell_type": "markdown",
   "id": "8a9494c2",
   "metadata": {},
   "source": [
    "# 4. Split data into train and test"
   ]
  },
  {
   "cell_type": "code",
   "execution_count": null,
   "id": "d6d420f9",
   "metadata": {},
   "outputs": [],
   "source": []
  },
  {
   "cell_type": "markdown",
   "id": "88b8a4bc",
   "metadata": {},
   "source": [
    "# 5. Scale"
   ]
  },
  {
   "cell_type": "code",
   "execution_count": null,
   "id": "682ae290",
   "metadata": {},
   "outputs": [],
   "source": []
  },
  {
   "cell_type": "markdown",
   "id": "8d19c0a4",
   "metadata": {},
   "source": [
    "# 6. Baseline models\n",
    " - Linear Regression\n",
    " - Linear SVM\n",
    " - Random Forest"
   ]
  },
  {
   "cell_type": "code",
   "execution_count": null,
   "id": "186ce8ed",
   "metadata": {},
   "outputs": [],
   "source": []
  },
  {
   "cell_type": "markdown",
   "id": "1e9d4b63",
   "metadata": {},
   "source": [
    "# 7. Evaluate Models"
   ]
  },
  {
   "cell_type": "code",
   "execution_count": null,
   "id": "6550fd1e",
   "metadata": {},
   "outputs": [],
   "source": []
  },
  {
   "cell_type": "markdown",
   "id": "ac2a343f",
   "metadata": {},
   "source": [
    "# 8. Results"
   ]
  },
  {
   "cell_type": "code",
   "execution_count": null,
   "id": "5880c1a8",
   "metadata": {},
   "outputs": [],
   "source": []
  }
 ],
 "metadata": {
  "language_info": {
   "name": "python"
  }
 },
 "nbformat": 4,
 "nbformat_minor": 5
}
